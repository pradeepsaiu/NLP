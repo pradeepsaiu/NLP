{
 "cells": [
  {
   "cell_type": "code",
   "execution_count": 1,
   "metadata": {
    "collapsed": true
   },
   "outputs": [],
   "source": [
    "import re\n",
    "import math"
   ]
  },
  {
   "cell_type": "code",
   "execution_count": 12,
   "metadata": {},
   "outputs": [],
   "source": [
    "def getwords(doc):\n",
    "    '''\n",
    "        Returns words in form of dictionary\n",
    "    '''\n",
    "    splitter = re.compile('\\\\W*')\n",
    "    #split words by non alpha characters\n",
    "    words = [s.lower() for s in splitter.split(doc) if len(s)>2 and len(s)<20 ]\n",
    "    \n",
    "    # return unique set of words only\n",
    "    return dict([(w,1) for w in words])"
   ]
  },
  {
   "cell_type": "code",
   "execution_count": 14,
   "metadata": {},
   "outputs": [],
   "source": [
    "class classifier:\n",
    "    def __init__(self,getfeatures,filename=None):\n",
    "        #counts of feature/category combinatios\n",
    "        self.fc={}\n",
    "        #counts of documents in each category\n",
    "        self.cc={}\n",
    "        self.getfeatures = getfeatures\n",
    "    \n",
    "    # Increase the count of a feature/category pair\n",
    "    def incf(self,f,cat):\n",
    "        self.fc.setdefault(f,{})\n",
    "        self.fc[f].setdefault(cat,0)\n",
    "        self.fc[f][cat]+=1\n",
    "        \n",
    "    # Increase the count of a category\n",
    "    def incc(self,cat):\n",
    "        self.cc.setdefault(cat,0)\n",
    "        self.cc[cat]+=1\n",
    "    \n",
    "    # The number of times a feature has appeared in category\n",
    "    def fcount(self,f,cat):\n",
    "        if f in self.f and cat in self.cat:\n",
    "            return float(self.fc[f][cat])\n",
    "        return 0.0\n",
    "    \n",
    "    # The number of items in a category\n",
    "    def catcount(self,cat):\n",
    "        if cat in self.cc:\n",
    "            return float(self.cc[cat])\n",
    "        return 0\n",
    "    \n",
    "    # The total number of items\n",
    "    def totalcount(self):\n",
    "        return sum(self.cc.values())\n",
    "    \n",
    "    # The list of all categories\n",
    "    def categories(self):\n",
    "        return self.cc.keys()\n",
    "    \n",
    "    def train(self,item,cat):\n",
    "        features = self.getfeatures(item)\n",
    "        # increment count of every feature in this category\n",
    "        for f in features:\n",
    "            self.incf(f,cat)\n",
    "        \n",
    "        # increment count of this category\n",
    "        self.incc(cat)"
   ]
  },
  {
   "cell_type": "code",
   "execution_count": 15,
   "metadata": {
    "collapsed": true
   },
   "outputs": [],
   "source": [
    "# using getwords as the feature extractor.\n",
    "c1 = classifier(getwords)"
   ]
  },
  {
   "cell_type": "code",
   "execution_count": null,
   "metadata": {
    "collapsed": true
   },
   "outputs": [],
   "source": []
  }
 ],
 "metadata": {
  "kernelspec": {
   "display_name": "Python 2",
   "language": "python",
   "name": "python2"
  },
  "language_info": {
   "codemirror_mode": {
    "name": "ipython",
    "version": 2
   },
   "file_extension": ".py",
   "mimetype": "text/x-python",
   "name": "python",
   "nbconvert_exporter": "python",
   "pygments_lexer": "ipython2",
   "version": "2.7.13"
  }
 },
 "nbformat": 4,
 "nbformat_minor": 2
}
