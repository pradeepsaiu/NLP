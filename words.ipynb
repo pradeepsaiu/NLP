{
 "cells": [
  {
   "cell_type": "code",
   "execution_count": 1,
   "metadata": {
    "collapsed": true
   },
   "outputs": [],
   "source": [
    "import re\n",
    "import math"
   ]
  },
  {
   "cell_type": "code",
   "execution_count": 2,
   "metadata": {
    "collapsed": true
   },
   "outputs": [],
   "source": [
    "def getwords(doc):\n",
    "    '''\n",
    "        Returns words in form of dictionary\n",
    "    '''\n",
    "    splitter = re.compile('\\\\W*')\n",
    "    #split words by non alpha characters\n",
    "    words = [s.lower() for s in splitter.split(doc) if len(s)>2 and len(s)<20 ]\n",
    "    \n",
    "    # return unique set of words only\n",
    "    return dict([(w,1) for w in words])"
   ]
  },
  {
   "cell_type": "code",
   "execution_count": 3,
   "metadata": {
    "collapsed": true
   },
   "outputs": [],
   "source": [
    "class classifier:\n",
    "    def __init__(self,getfeatures,filename=None):\n",
    "        #counts of feature/category combinatios\n",
    "        self.fc={}\n",
    "        #counts of documents in each category\n",
    "        self.cc={}\n",
    "        self.getfeatures = getfeatures\n",
    "    \n",
    "    # Increase the count of a feature/category pair\n",
    "    def incf(self,f,cat):\n",
    "        self.fc.setdefault(f,{})\n",
    "        self.fc[f].setdefault(cat,0)\n",
    "        self.fc[f][cat]+=1\n",
    "        \n",
    "    # Increase the count of a category\n",
    "    def incc(self,cat):\n",
    "        self.cc.setdefault(cat,0)\n",
    "        self.cc[cat]+=1\n",
    "    \n",
    "    # The number of times a feature has appeared in category\n",
    "    def fcount(self,f,cat):\n",
    "        if f in self.f and cat in self.cat:\n",
    "            return float(self.fc[f][cat])\n",
    "        return 0.0\n",
    "    \n",
    "    # The number of items in a category\n",
    "    def catcount(self,cat):\n",
    "        if cat in self.cc:\n",
    "            return float(self.cc[cat])\n",
    "        return 0\n",
    "    \n",
    "    # The total number of items\n",
    "    def totalcount(self):\n",
    "        return sum(self.cc.values())\n",
    "    \n",
    "    # The list of all categories\n",
    "    def categories(self):\n",
    "        return self.cc.keys()\n",
    "    \n",
    "    def train(self,item,cat):\n",
    "        features = self.getfeatures(item)\n",
    "        # increment count of every feature in this category\n",
    "        for f in features:\n",
    "            self.incf(f,cat)\n",
    "        \n",
    "        # increment count of this category\n",
    "        self.incc(cat)"
   ]
  },
  {
   "cell_type": "code",
   "execution_count": 4,
   "metadata": {
    "collapsed": true
   },
   "outputs": [],
   "source": [
    "# using getwords as the feature extractor.\n",
    "c1 = classifier(getwords)"
   ]
  },
  {
   "cell_type": "markdown",
   "metadata": {},
   "source": [
    "# Calculating the probabilities."
   ]
  },
  {
   "cell_type": "code",
   "execution_count": 6,
   "metadata": {
    "collapsed": false
   },
   "outputs": [],
   "source": [
    "# Calculating Probabilities\n",
    "def fprob(self,f,cat):\n",
    "    if self.catcount(cat) == 0:\n",
    "        return 0\n",
    "    # Total number of times product appears in this category\n",
    "    # divided by total number of items in category\n",
    "    return self.fcount(f,cat)/self.catcount(cat)\n",
    "classifier.fprob = fprob\n",
    "\n",
    "def weightedprob(self,f,cat,prf,weight=1.0,ap=0.5):\n",
    "    '''prf is the function to calculate proability\n",
    "       ap is assumed probability\n",
    "    '''\n",
    "    #Calculate current probability\n",
    "    basicprob = prf(f,cat)\n",
    "    \n",
    "    #count the number of times this feature has appeared in all categories\n",
    "    totals = sum([self.fcount(f,c) for c in self.categories()])\n",
    "    \n",
    "    # calculate the weighted average\n",
    "    bp = ((weight*ap) + (totals*basicprob)) / (weight + totals)\n",
    "    return bp"
   ]
  },
  {
   "cell_type": "markdown",
   "metadata": {},
   "source": [
    "# Naive Bayes classifier"
   ]
  },
  {
   "cell_type": "code",
   "execution_count": 8,
   "metadata": {
    "collapsed": true
   },
   "outputs": [],
   "source": [
    "# creating a subclass classifier\n",
    "class naivebayes(classifier):\n",
    "    def __init__(self,getfeatures):\n",
    "        classifier.__init__(self,getfeatures)\n",
    "        self.thresholds={}\n",
    "        \n",
    "    def docprob(self,item,cat):\n",
    "        features = self.getfeatures(item)\n",
    "        \n",
    "        # Since each word is assumed independent multiply all probabilities\n",
    "        p=1\n",
    "        for f in features: p*=self.weightedprob(f,cat,self.fprob)\n",
    "        return p\n",
    "    \n",
    "    def prob(self,item,cat):\n",
    "        catprob = self.catcount(cat)/self.totalcount()\n",
    "        docprob = self.docprob(item,cat)\n",
    "        return docprob*catprob\n",
    "    \n",
    "    def setthreshold(self,cat,t):\n",
    "        self.thresholds[cat] = t\n",
    "    \n",
    "    def getthreshold(self,cat):\n",
    "        if cat not in self.thresholds: return 1.0\n",
    "        return self.thresolds[cat]\n",
    "    \n",
    "    def classify(self,item,default=None):\n",
    "        probs={}\n",
    "        # Find the category with highest probability\n",
    "        tmax = 0.0\n",
    "        for cat in self.categories():\n",
    "            probs[cat] = self.prob(item,cat)\n",
    "            if probs[cat] > tmax:\n",
    "                tmax = probs[cat]\n",
    "                best = cat\n",
    "        \n",
    "        # Make sure the probability exceeds thresold*next best\n",
    "        for cat in probs:\n",
    "            if cat == best: continue\n",
    "            if probs[cat]*self.getthreshold(best)>probs[best]: return default\n",
    "        return best"
   ]
  },
  {
   "cell_type": "code",
   "execution_count": null,
   "metadata": {
    "collapsed": true
   },
   "outputs": [],
   "source": []
  }
 ],
 "metadata": {
  "kernelspec": {
   "display_name": "Python [Root]",
   "language": "python",
   "name": "Python [Root]"
  },
  "language_info": {
   "codemirror_mode": {
    "name": "ipython",
    "version": 2
   },
   "file_extension": ".py",
   "mimetype": "text/x-python",
   "name": "python",
   "nbconvert_exporter": "python",
   "pygments_lexer": "ipython2",
   "version": "2.7.12"
  }
 },
 "nbformat": 4,
 "nbformat_minor": 2
}
